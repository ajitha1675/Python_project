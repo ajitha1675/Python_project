{
  "nbformat": 4,
  "nbformat_minor": 0,
  "metadata": {
    "colab": {
      "provenance": []
    },
    "kernelspec": {
      "name": "python3",
      "display_name": "Python 3"
    },
    "language_info": {
      "name": "python"
    }
  },
  "cells": [
    {
      "cell_type": "markdown",
      "source": [
        "Q1) You are working in a bank, and you have been given two lists of the employees who worked in 2021. Employees’ names in list 1 are Ramesh, Suresh, Mahesh, Ali, Jacob, and Saritha. List 2 contains the names of Ali, Mukesh, Mahesh, Jacob, Sai, and Sarita. Please write a program that helps to identify people who are common in both lists. Please do not use any in-built function."
      ],
      "metadata": {
        "id": "6DfS9qO9k6gB"
      }
    },
    {
      "cell_type": "code",
      "source": [
        "list1 = ['Ramesh','Suresh','Mahesh','Ali','Jacob','Saritha']\n",
        "\n",
        "list2 = ['Ali','Mukesh','Mahesh','Jacob','sai','sarita']\n",
        "\n",
        "for i in list1:\n",
        "    if i in list2:\n",
        "        print(i)"
      ],
      "metadata": {
        "colab": {
          "base_uri": "https://localhost:8080/"
        },
        "id": "7943puQ1ll-n",
        "outputId": "a326b939-3bda-4775-e8a6-5d5106dd9c6f"
      },
      "execution_count": null,
      "outputs": [
        {
          "output_type": "stream",
          "name": "stdout",
          "text": [
            "Mahesh\n",
            "Ali\n",
            "Jacob\n"
          ]
        }
      ]
    },
    {
      "cell_type": "markdown",
      "source": [
        "Q2) While entering data, someone entered a few names as a common string “Ramesh Suresh Mohit”. Please write a program which separates all the names and converts them into a list. Once converted into a list, please write a program that adds their age.\n",
        "\n",
        "\n",
        "\n",
        "Ramesh:  25\n",
        "\n",
        "Suresh: 22\n",
        "\n",
        "Mohit: 26"
      ],
      "metadata": {
        "id": "gbiXOUw9wRkv"
      }
    },
    {
      "cell_type": "code",
      "source": [
        "my_string = \"Ramesh Suresh Mohit\"\n",
        "list1 = my_string.split()\n",
        "print(list1)\n",
        "\n",
        "Sumof_age = {\"Ramesh\": 25, \"Suresh\": 22, \"Mohit\": 26}\n",
        "total_age = 0\n",
        "for n in Sumof_age:\n",
        "  total_age += Sumof_age[n]\n",
        "  print(\"Total_age: \", total_age)"
      ],
      "metadata": {
        "colab": {
          "base_uri": "https://localhost:8080/"
        },
        "id": "aKtOgJMgwcEF",
        "outputId": "71228a35-276a-438e-9262-886948660b57"
      },
      "execution_count": null,
      "outputs": [
        {
          "output_type": "stream",
          "name": "stdout",
          "text": [
            "['Ramesh', 'Suresh', 'Mohit']\n",
            "Total_age:  25\n",
            "Total_age:  47\n",
            "Total_age:  73\n"
          ]
        }
      ]
    },
    {
      "cell_type": "markdown",
      "source": [
        "Q3) You are working in a medical store. A patient came to your medical store and asked to buy 2 strips of paracetamol, 3 strips of azithromycin, and 5 strips of Vitamin C. One strip of paracetamol costs Rs 35, one strip of azithromycin costs Rs 49, and one strip of vitamin c costs Rs. 33. Patient gave you Rs 2000. Please tell us what is the total cost of each medicine, the total cost of all medicine, and how much money you refunded to the patient."
      ],
      "metadata": {
        "id": "tgc-sDEP4T_l"
      }
    },
    {
      "cell_type": "code",
      "source": [
        "paracetamol = 2 * 35\n",
        "azithromycin = 3 * 49\n",
        "vitamin_c = 5 * 33\n",
        "\n",
        "print('The total cost of paracetamol medicine:', paracetamol)\n",
        "print('The total cost of azithromycin medicine:', azithromycin)\n",
        "print('The total cost of vitamin_c medicine:', vitamin_c)\n",
        "\n",
        "total_costof_medicine = paracetamol + azithromycin + vitamin_c\n",
        "print(\"Total price of medicine:\",total_costof_medicine)\n",
        "\n",
        "Taken = 2000\n",
        "Given = 2000 - total_costof_medicine\n",
        "\n",
        "print(\"I give refunded the money:\" ,Given)"
      ],
      "metadata": {
        "id": "sohjjk_L4ZbW",
        "colab": {
          "base_uri": "https://localhost:8080/"
        },
        "outputId": "fa4e66fb-bb99-4d43-ccc2-90eb0891bc33"
      },
      "execution_count": null,
      "outputs": [
        {
          "output_type": "stream",
          "name": "stdout",
          "text": [
            "The total cost of paracetamol medicine: 70\n",
            "The total cost of azithromycin medicine: 147\n",
            "The total cost of vitamin_c medicine: 165\n",
            "Total price of medicine: 382\n",
            "I give refunded the money: 1618\n"
          ]
        }
      ]
    },
    {
      "cell_type": "markdown",
      "source": [
        "Q4) Accept a sentence as input and find the number of vowels in it. Assume that the sentence has no punctuation marks. For example, I am learning python contains 6 vowels. This function should be applicable for all other different sentences.\n",
        "\n"
      ],
      "metadata": {
        "id": "EDiEeVoX-mIY"
      }
    },
    {
      "cell_type": "code",
      "source": [
        "def vowel_count(str):\n",
        "\tcount = 0\n",
        "\tvowel = set(\"aeiouAEIOU\")\n",
        "\tfor sentence in str:\n",
        "\t\tif sentence in vowel:\n",
        "\t\t\tcount = count + 1\n",
        "\n",
        "\tprint(\"Number of vowels :\", count)\n",
        "str = \"I like football\"\n",
        "vowel_count(str)\n",
        "\n"
      ],
      "metadata": {
        "colab": {
          "base_uri": "https://localhost:8080/"
        },
        "id": "OYaNotnA-lge",
        "outputId": "df204ead-f65f-4a1e-f57c-e48752ecb854"
      },
      "execution_count": null,
      "outputs": [
        {
          "output_type": "stream",
          "name": "stdout",
          "text": [
            "Number of vowels : 6\n"
          ]
        }
      ]
    },
    {
      "cell_type": "markdown",
      "source": [
        "Q5) You have been appointed by the election commission to create a website. Your first task is to work on a program which tells candidates if they are eligible for voting or not. If they are eligible, your output should be ‘Congrats! You are eligible’; otherwise, it should tell that you have to return after X number of years. The eligibility criteria for voting is 18 years."
      ],
      "metadata": {
        "id": "Rbxs_8PjDHUN"
      }
    },
    {
      "cell_type": "code",
      "source": [
        "Age = int(input(\"Enter your age:\"))\n",
        "if Age >= 18:\n",
        "  print(\"Congrats! You are eligible.\")\n",
        "else:\n",
        "    print(f\"Return after {18- Age} years.\")"
      ],
      "metadata": {
        "colab": {
          "base_uri": "https://localhost:8080/"
        },
        "id": "ycKF08sqDMzB",
        "outputId": "52ffec77-3c16-41fc-853c-1d5462c5309d"
      },
      "execution_count": null,
      "outputs": [
        {
          "output_type": "stream",
          "name": "stdout",
          "text": [
            "Enter your age:15\n",
            "Return after 3 years.\n"
          ]
        }
      ]
    },
    {
      "cell_type": "markdown",
      "source": [
        "Q6) Given an unsorted array of integers, find the length of the longest increasing subsequence (LIS)."
      ],
      "metadata": {
        "id": "OpgLyHcyGYe6"
      }
    },
    {
      "cell_type": "code",
      "source": [
        "# Dynamic programming Python implementation\n",
        "# of LIS problem\n",
        "\n",
        "\n",
        "# lis returns length of the longest\n",
        "# increasing subsequence in arr of size n\n",
        "def lis(arr):\n",
        "\tn = len(arr)\n",
        "\n",
        "\t# Declare the list (array) for LIS and\n",
        "\t# initialize LIS values for all indexes\n",
        "\tlis = [1]*n\n",
        "\n",
        "\t# Compute optimized LIS values in bottom up manner\n",
        "\tfor i in range(1, n):\n",
        "\t\tfor j in range(0, i):\n",
        "\t\t\tif arr[i] > arr[j] and lis[i] < lis[j] + 1:\n",
        "\t\t\t\tlis[i] = lis[j]+1\n",
        "\n",
        "\t# Initialize maximum to 0 to get\n",
        "\t# the maximum of all LIS\n",
        "\tmaximum = 0\n",
        "\n",
        "\t# Pick maximum of all LIS values\n",
        "\tfor i in range(n):\n",
        "\t\tmaximum = max(maximum, lis[i])\n",
        "\n",
        "\treturn maximum\n",
        "\n",
        "\n",
        "# Driver program to test above function\n",
        "if __name__ == '__main__':\n",
        "\tarr = [10, 22, 9, 33, 21, 50, 41, 60]\n",
        "\tprint(\"Length of lis is\", lis(arr))\n",
        "\n",
        "\n",
        "# This code is contributed by Nikhil Kumar Singh\n"
      ],
      "metadata": {
        "id": "ZABoWo4aGfoG",
        "colab": {
          "base_uri": "https://localhost:8080/"
        },
        "outputId": "5dff1908-2e60-44d0-8ed8-d64c74cf0f02"
      },
      "execution_count": null,
      "outputs": [
        {
          "output_type": "stream",
          "name": "stdout",
          "text": [
            "Length of lis is 5\n"
          ]
        }
      ]
    }
  ]
}